{
  "nbformat": 4,
  "nbformat_minor": 0,
  "metadata": {
    "colab": {
      "provenance": []
    },
    "kernelspec": {
      "name": "python3",
      "display_name": "Python 3"
    },
    "language_info": {
      "name": "python"
    }
  },
  "cells": [
    {
      "cell_type": "code",
      "execution_count": null,
      "metadata": {
        "id": "sr5BG4r0RB0a"
      },
      "outputs": [],
      "source": [
        "#CW 1- definiowanie prostych faktów\n",
        "\n",
        "% fakty\n",
        "\n",
        "ojciec(jan, anna).\n",
        "ojciec(jan, piotr).\n",
        "matka(maria, anna).\n",
        "matka(maria, piotr).\n"
      ]
    },
    {
      "cell_type": "code",
      "source": [
        "#CW2 - reguły rodzica\n",
        "\n",
        "% reguły\n",
        "\n",
        "rodzic(X, Y):- ojciec(X,Y).\n",
        "rodzic(X,Y):- matka(X,Y).\n"
      ],
      "metadata": {
        "id": "HKDz7tZ5SbS9"
      },
      "execution_count": null,
      "outputs": []
    },
    {
      "cell_type": "code",
      "source": [
        "#CW3 - zdefiniowanie dziadka\n",
        "% fakty\n",
        "ojciec(jan, anna).\n",
        "ojciec(jan, piotr).\n",
        "ojciec(zbyszek, jan).\n",
        "\n",
        "matka(maria, anna).\n",
        "matka(maria, piotr).\n",
        "\n",
        "%reguły\n",
        "rodzic(X, Y):- ojciec(X,Y).\n",
        "rodzic(X,Y):- matka(X,Y).\n",
        "dziadek(X,Y):- ojciec(X, Z), rodzic(Z,Y).\n",
        "\n",
        "%Zapytania\n",
        "\n",
        "?- dziadek(zbyszek,anna) => wynik : true\n"
      ],
      "metadata": {
        "id": "FS7cYFU7bLtX"
      },
      "execution_count": null,
      "outputs": []
    },
    {
      "cell_type": "code",
      "source": [
        "#CW4 - predykat siostra\n",
        "%fakty: - #dodaję nowy fakt kobieta, aby się upewnić że siostra będzie kobietą\n",
        "ojciec(jan, anna).\n",
        "ojciec(jan, piotr).\n",
        "ojciec(zbyszek, jan).\n",
        "\n",
        "matka(maria, anna).\n",
        "matka(maria, piotr).\n",
        "\n",
        "kobieta(maria).\n",
        "kobieta(anna).\n",
        "\n",
        "%reguły\n",
        "rodzic(X, Y):- ojciec(X,Y).\n",
        "rodzic(X,Y):- matka(X,Y).\n",
        "dziadek(X,Y):- ojciec(X, Z), rodzic(Z,Y).\n",
        "siostra(X,Y) :- kobieta(X), rodzic(Z,X),\n",
        "    rodzic(Z,Y), X \\= Y.\n",
        "#Dodałam regułę siostra, która określa że x jest siostrą Y, jeśli x jest kobietą oraz x i y  mają tych samych rodziców\n",
        "\n",
        "%przykładowe zapytanie\n",
        "\n",
        "?- siostra(anna,piotr) => true\n",
        "?- siostra(piotr,anna) => false\n",
        "\n"
      ],
      "metadata": {
        "id": "RLGDp7w9co9L"
      },
      "execution_count": null,
      "outputs": []
    },
    {
      "cell_type": "code",
      "source": [
        "#CW5 - zastosowanie znmiennych anonimowych\n",
        "Dodana reguła:\n",
        "jest_rodzicem(X):- rodzic(X, _)."
      ],
      "metadata": {
        "id": "ChOqOc1qduX6"
      },
      "execution_count": null,
      "outputs": []
    },
    {
      "cell_type": "code",
      "source": [
        "#CW6- reguła czyj_rodzic\n",
        "Do zbioru reguł dodaję:\n",
        "czyj_rodzic(X, ListaDzieci):-  findall(Dziecko, rodzic(X, Dziecko),\n",
        "                                       ListaDzieci).\n"
      ],
      "metadata": {
        "id": "yfhlVnI7d8-k"
      },
      "execution_count": null,
      "outputs": []
    },
    {
      "cell_type": "code",
      "source": [
        "#CW7 - wykorzystanie cut\n",
        "rodzic_cut(X,Y):- rodzic(X,Y), !.\n",
        "rodzic_bez_cut(X,Y):- rodzic(X,Y)."
      ],
      "metadata": {
        "id": "Th1iqmdrCtVR"
      },
      "execution_count": null,
      "outputs": []
    },
    {
      "cell_type": "code",
      "source": [
        "#CW8 - kontrola przepływu przy użyciu cut\n",
        "zmodyfikowana reguła rodzica\n",
        "rodzic(X, Y):- ojciec(X,Y), !.\n",
        "rodzic(X,Y):- matka(X,Y), !.\n"
      ],
      "metadata": {
        "id": "CsyF11kaEpPi"
      },
      "execution_count": null,
      "outputs": []
    },
    {
      "cell_type": "code",
      "source": [
        "#CW9 - predykat wieku\n",
        "dodane fakty:\n",
        "wiek(jan, 43).\n",
        "wiek(maria,42).\n",
        "wiek(anna, 17).\n",
        "wiek(piotr,13).\n",
        "wiek(zbyszek, 65).\n",
        "\n",
        "dodane reguły:\n",
        "starszy(X,Y):-  wiek(X, WiekX),\n",
        "    wiek(Y, WiekY),\n",
        "    WiekX > WiekY."
      ],
      "metadata": {
        "id": "aY0wZNLdFxAM"
      },
      "execution_count": null,
      "outputs": []
    },
    {
      "cell_type": "code",
      "source": [
        "#CW10 - operatory porównania\n",
        "reguła:\n",
        "wiek_wiecej_niz(N):-\n",
        "    wiek(X, Wiek),\n",
        "    Wiek> N,\n",
        "    write(X), nl,\n",
        "    fail.\n"
      ],
      "metadata": {
        "id": "nx40XQWgHujk"
      },
      "execution_count": null,
      "outputs": []
    },
    {
      "cell_type": "code",
      "source": [
        "#CW11 - dynamiczna baza faktów\n",
        ":- dynamic produkt/3.\n",
        "dodaj_fakt(X):-assertz(X).\n",
        "usun_fakt(X):- retract(X)."
      ],
      "metadata": {
        "id": "zsBPkS6mLpZj"
      },
      "execution_count": null,
      "outputs": []
    },
    {
      "cell_type": "code",
      "source": [],
      "metadata": {
        "id": "NomrEPeQVr_T"
      },
      "execution_count": null,
      "outputs": []
    }
  ]
}