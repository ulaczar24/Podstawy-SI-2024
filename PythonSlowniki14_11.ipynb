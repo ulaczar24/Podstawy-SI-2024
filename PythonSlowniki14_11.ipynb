{
  "nbformat": 4,
  "nbformat_minor": 0,
  "metadata": {
    "colab": {
      "provenance": []
    },
    "kernelspec": {
      "name": "python3",
      "display_name": "Python 3"
    },
    "language_info": {
      "name": "python"
    }
  },
  "cells": [
    {
      "cell_type": "code",
      "execution_count": null,
      "metadata": {
        "colab": {
          "base_uri": "https://localhost:8080/"
        },
        "id": "kfNJQuJG3hpu",
        "outputId": "8d4f48f9-10fa-4719-b9b5-396a86e74a9e"
      },
      "outputs": [
        {
          "output_type": "stream",
          "name": "stdout",
          "text": [
            "{'Imie': 'Ula', 'wiek': 20, 'miasto': 'Lublin'} {'liczba': 45, 'napis': 'drzewo', 'krotka': {8, 2, 6}} {'zwierze': 'pies', 'miasto': 'Lublin', 'numer': 63}\n"
          ]
        }
      ],
      "source": [
        "#Skadnia slownikow\n",
        "#CW1\n",
        "slownik = {}\n",
        "slownik ={'Imie': 'Ula', 'wiek': 20 ,'miasto' : 'Lublin'}\n",
        "\n",
        "#CW2\n",
        "slownik2={'liczba': 45, 'napis': 'drzewo', 'krotka': {2, 6, 8}}\n",
        "\n",
        "#CW3\n",
        "slownik3 = dict(zwierze='pies', miasto='Lublin', numer = 63)\n",
        "\n",
        "print(slownik, slownik2, slownik3)"
      ]
    },
    {
      "cell_type": "code",
      "source": [
        "#Podstawowe metody slownikow\n",
        "slownik4 = dict(miasto='Warszawa', panstwo=\"Polska\", jedzenie=\"spaghetti\", roslina=\"krzak\")\n",
        "\n",
        "#CW1\n",
        "slownik4['zwierze']= 'chomik'\n",
        "\n",
        "#CW2\n",
        "slownik4['miasto']='Lublin'\n",
        "\n",
        "#CW3\n",
        "pusty = {}\n",
        "pusty['jeden']=1\n",
        "pusty['dwa']=2\n",
        "pusty['trzy']=3\n",
        "\n",
        "print(slownik4, pusty)\n",
        "\n"
      ],
      "metadata": {
        "colab": {
          "base_uri": "https://localhost:8080/"
        },
        "id": "4DmSQDv269Gd",
        "outputId": "532f8d1b-c7c3-4175-8e64-a3064da3dcac"
      },
      "execution_count": null,
      "outputs": [
        {
          "output_type": "stream",
          "name": "stdout",
          "text": [
            "{'miasto': 'Lublin', 'panstwo': 'Polska', 'jedzenie': 'spaghetti', 'roslina': 'krzak', 'zwierze': 'chomik'} {'jeden': 1, 'dwa': 2, 'trzy': 3}\n"
          ]
        }
      ]
    },
    {
      "cell_type": "code",
      "source": [
        "#Usuwanie ze sownika\n",
        "kosz=dict(miasto=\"Rzym\", panstwo=\"Wlochy\", jedzenie=\"pizza\", roslina=\"krzak\")\n",
        "\n",
        "\n",
        "#CW1\n",
        "del kosz['miasto']\n",
        "print(kosz)\n",
        "#CW2\n",
        "x = kosz.pop('jedzenie')\n",
        "print(kosz)\n",
        "print(x)\n",
        "\n",
        "#CW3\n",
        "kosz2= dict(miasto=\"Berlin\", panstwo=\"Niemce\", jedzenie=\"kanapka\", roslina=\"krzak\")\n",
        "\n",
        "kosz2.clear()\n",
        "print(kosz2)"
      ],
      "metadata": {
        "colab": {
          "base_uri": "https://localhost:8080/"
        },
        "id": "QW_fwX798ji9",
        "outputId": "3f4bd06d-4eeb-4414-b66c-6c24d437abc1"
      },
      "execution_count": null,
      "outputs": [
        {
          "output_type": "stream",
          "name": "stdout",
          "text": [
            "{'panstwo': 'Wlochy', 'jedzenie': 'pizza', 'roslina': 'krzak'}\n",
            "{'panstwo': 'Wlochy', 'roslina': 'krzak'}\n",
            "pizza\n",
            "{}\n"
          ]
        }
      ]
    },
    {
      "cell_type": "code",
      "source": [
        "#Wyszukiwanie kluczy i wartosci\n",
        "kolejny_slownik = {'panstwo':'Hiszpania', 'miasto':'Bacelona', 'jedzenie':'pomidor'}\n",
        "#Cw1\n",
        "klucze=kolejny_slownik.keys()\n",
        "print(klucze)\n",
        "#CW2\n",
        "wartosci=kolejny_slownik.values()\n",
        "print(wartosci)\n",
        "#Cw3\n",
        "pary=kolejny_slownik.items()\n",
        "print(pary)\n"
      ],
      "metadata": {
        "colab": {
          "base_uri": "https://localhost:8080/"
        },
        "id": "L1Yv8v8598Rt",
        "outputId": "3c42bd7a-c1fb-4015-b809-d42d134ee920"
      },
      "execution_count": null,
      "outputs": [
        {
          "output_type": "stream",
          "name": "stdout",
          "text": [
            "dict_keys(['panstwo', 'miasto', 'jedzenie'])\n",
            "dict_values(['Hiszpania', 'Bacelona', 'pomidor'])\n",
            "dict_items([('panstwo', 'Hiszpania'), ('miasto', 'Bacelona'), ('jedzenie', 'pomidor')])\n"
          ]
        }
      ]
    },
    {
      "cell_type": "code",
      "source": [
        "#Aktualizacja slownika\n",
        "europa = {'panstwo': 'Polska', 'miasto':'Praga'}\n",
        "\n",
        "#Cw1\n",
        "europa.update({'miasto2':'Lublin'})\n",
        "\n",
        "#CW2\n",
        "europa.update([('panstwo2', 'Polska'),('miasto3', 'Bratyslawa')])\n",
        "print(europa)\n",
        "\n",
        "#CW3\n",
        "europa.update({'miasto2': 'Szczecin'})\n",
        "\n",
        "print(europa)"
      ],
      "metadata": {
        "colab": {
          "base_uri": "https://localhost:8080/"
        },
        "id": "Zr4DxvD3_Pud",
        "outputId": "aec12485-6e22-4ae4-afdb-35c296e2c7fb"
      },
      "execution_count": null,
      "outputs": [
        {
          "output_type": "stream",
          "name": "stdout",
          "text": [
            "{'panstwo': 'Polska', 'miasto': 'Praga', 'miasto2': 'Lublin', 'panstwo2': 'Polska', 'miasto3': 'Bratyslawa'}\n",
            "{'panstwo': 'Polska', 'miasto': 'Praga', 'miasto2': 'Szczecin', 'panstwo2': 'Polska', 'miasto3': 'Bratyslawa'}\n"
          ]
        }
      ]
    },
    {
      "cell_type": "code",
      "source": [
        "#Metoda get\n",
        "jedzenie={'owoc': 'jaablko', 'warzywo': 'kalarepa', 'mieso':'szynka', 'nabial': 'mleko'}\n",
        "\n",
        "#cw1\n",
        "a=jedzenie.get('nabial')\n",
        "print(a)\n",
        "\n",
        "#cw2\n",
        "b=jedzenie.get('napoj')\n",
        "print(b)\n",
        "\n",
        "#cw3\n",
        "c=b=jedzenie.get('napoj', 'nie ma napoju')\n",
        "print(c)\n",
        "\n"
      ],
      "metadata": {
        "colab": {
          "base_uri": "https://localhost:8080/"
        },
        "id": "HZDs4w3nBRBu",
        "outputId": "08acf4c4-fe98-493a-9714-fc442b39145a"
      },
      "execution_count": null,
      "outputs": [
        {
          "output_type": "stream",
          "name": "stdout",
          "text": [
            "mleko\n",
            "None\n",
            "nie ma napoju\n"
          ]
        }
      ]
    },
    {
      "cell_type": "code",
      "source": [
        "#Cwiczenie - roznice miedzy get() a []\n",
        "zwierzeta = {'ssak': 'nietoperz', 'ryba':'losos', 'ptak': 'pelikan'}\n",
        "try:\n",
        "  rodzaj = zwierzeta.get['plaz']\n",
        "except:\n",
        "  print(\"Klucz 'plaz' nie istnieje\")\n",
        "\n",
        "gad=zwierzeta.get('gad', 'gada nie ma')\n",
        "print(gad)"
      ],
      "metadata": {
        "colab": {
          "base_uri": "https://localhost:8080/"
        },
        "id": "VP_1nzMdDF0V",
        "outputId": "215f116e-5cd7-4310-bc2f-949aef2bade5"
      },
      "execution_count": null,
      "outputs": [
        {
          "output_type": "stream",
          "name": "stdout",
          "text": [
            "Klucz 'plaz' nie istnieje\n",
            "gada nie ma\n"
          ]
        }
      ]
    },
    {
      "cell_type": "code",
      "source": [
        "#Zlozone cwiczenie 1\n",
        "lista = ['u', 'c', 'r', 'a', 'z', 'a', 'u', 'b', 'a']\n",
        "\n",
        "zliczone={}\n",
        "for i in lista:\n",
        "  if i in zliczone:\n",
        "    zliczone[i]+=1\n",
        "  else:\n",
        "    zliczone[i]=1\n",
        "print(zliczone)"
      ],
      "metadata": {
        "colab": {
          "base_uri": "https://localhost:8080/"
        },
        "id": "LFQ1QgYBEyjl",
        "outputId": "c70efbde-4554-43a2-e43d-9163d3ed93b1"
      },
      "execution_count": null,
      "outputs": [
        {
          "output_type": "stream",
          "name": "stdout",
          "text": [
            "{'u': 2, 'c': 1, 'r': 1, 'a': 3, 'z': 1, 'b': 1}\n"
          ]
        }
      ]
    },
    {
      "cell_type": "code",
      "source": [
        "#Zlozone cwiczenie 2\n",
        "auta = {'Ford': 'mondeo', 'Opel':'corsa', 'Toyota':'yaris'}\n",
        "auta_odwr = {wartosc: klucz for klucz,wartosc in auta.items()}\n",
        "print(auta_odwr)"
      ],
      "metadata": {
        "colab": {
          "base_uri": "https://localhost:8080/"
        },
        "id": "P8ucJc7FFsH-",
        "outputId": "4488f6a7-3be2-4c1b-c11a-d38dbefee993"
      },
      "execution_count": null,
      "outputs": [
        {
          "output_type": "stream",
          "name": "stdout",
          "text": [
            "{'mondeo': 'Ford', 'corsa': 'Opel', 'yaris': 'Toyota'}\n"
          ]
        }
      ]
    },
    {
      "cell_type": "code",
      "source": [
        "#Zlozozne cwiczenie 3\n",
        "start = {'a': 10, 'b': 20, 'c': 30}\n",
        "koniec = {'b': 15, 'c': 25, 'd': 35}\n",
        "razem=start.copy()\n",
        "for klucz,wartosc in koniec.items():\n",
        "  if klucz in razem:\n",
        "    razem[klucz]+=wartosc\n",
        "  else:\n",
        "    razem[klucz]=wartosc\n",
        "\n",
        "print(razem)"
      ],
      "metadata": {
        "colab": {
          "base_uri": "https://localhost:8080/"
        },
        "id": "ZkNqvmnpGWqu",
        "outputId": "56f8ac62-cb07-4e15-a43d-fa1853524dd6"
      },
      "execution_count": null,
      "outputs": [
        {
          "output_type": "stream",
          "name": "stdout",
          "text": [
            "{'a': 10, 'b': 35, 'c': 55, 'd': 35}\n"
          ]
        }
      ]
    }
  ]
}