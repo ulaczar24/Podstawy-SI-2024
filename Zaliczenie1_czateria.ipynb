{
  "nbformat": 4,
  "nbformat_minor": 0,
  "metadata": {
    "colab": {
      "provenance": [],
      "authorship_tag": "ABX9TyNtp+Eh6PGfBTR0DcnDdr6R",
      "include_colab_link": true
    },
    "kernelspec": {
      "name": "python3",
      "display_name": "Python 3"
    },
    "language_info": {
      "name": "python"
    }
  },
  "cells": [
    {
      "cell_type": "markdown",
      "metadata": {
        "id": "view-in-github",
        "colab_type": "text"
      },
      "source": [
        "<a href=\"https://colab.research.google.com/github/ulaczar24/Podstawy-SI-2024/blob/main/Zaliczenie1_czateria.ipynb\" target=\"_parent\"><img src=\"https://colab.research.google.com/assets/colab-badge.svg\" alt=\"Open In Colab\"/></a>"
      ]
    },
    {
      "cell_type": "code",
      "execution_count": null,
      "metadata": {
        "id": "AVfRodn3tH0x"
      },
      "outputs": [],
      "source": []
    },
    {
      "cell_type": "markdown",
      "source": [
        "Zadanie 1\n",
        "\n",
        "Wypełnianie deklaracji PIT moim zdaniem nie wymaga inteligencji, ponieważ jest to działanie odtwórcze, są tutaj konkretne wzory i pola do wypełnienia, więc w zasadzie nie potrzebna jest tam duża ilość analizy i przetwarzania danych. Oczywiście jest to zadanie które wymaga dużej dokładności i prezycji, aby nie pomylić się w wypełnianiu odpowiednich pól, co mogłoby skutkować błędami i nieprzyjemnymi sytacjami, ale mimo wszystko jest to działanie odtwórcze, nie wymagające inteligencji, tylko umiejętności podstawiania do wzoru.\n",
        "\n",
        "Zarówno tłumaczenie i streszczanie tekstu nie wymaga szczególnej inteligencji, jest to praca znowu odtwórcza czyli korzystając ze słownika, danego tekstu i zdolności przetwarzania tekstu, poprostu przekładamy dany tekst na inny język, lub na krótszą jego wersję. Jak najbardziej możnaby się pokusić o stwierdzenie, że skoro trzeba umieć przetwarzać tekst to jednak pewna doza inteligencji by się przydała, chociażby po to aby dobrze wyłapać sens danego tekstu i zgodnie z tym sensem przełożyć tekst na inny język, albo zapisać go w zdecydowanie skróconej formie, jednak uważam że powinno to być na tyle proste że nawet nie inteligentna maszyna powinna być w stanie sobie z tym zadaniem poradzić, korzystając tylko i wyłącznie z dostępnych źródeł takich jak na przykład słowniki.\n",
        "\n",
        "Klasyfikacja tekstu do kategorii tematycznych również nie wymaga inteligencji, bo zadanie to polega głownie na wyszukiwaniu słów kluczy i na ich podstawie przypisywanie tekstu do  odpowiedniej kategorii. Wymagana tutaj byłaby podstawowa wiedza ogólna, żeby w ogólne znać kategorie do których możnaby danych tekst przypisać, ale nadal mowa tutaj o ogólnej wiedzy a nie o inteligencji.\n",
        "\n",
        "Odpowiadanie na proste pytania nie wymaga inteligencji, bo odpowiedzi tak naprawde przychodzą same i praktycznie nie trzeba ich analizować ani przetwarzać dużej ilośći informacji aby takiej odpowiedzi udzielić. Pytania jak masz na imię, ile masz lat, jakiego koloru jest niebo, czy dzisiaj pada deszcz, to kwestia znajomości podstawowych faktów na swój temat i obserwacji świata zewnętrznego, więc o ile rzeczywiście są to proste pytania to nie wymaga to inteligencji. Inaczej sprawa miałaby się z trudnymi, złożonymi pytaniami, gdzie inteligencja już mogłaby się przydać, jak na przykład jak powstał świat, kim jesteśmy i jaki jest sens życia, bo aby odpowiedzieć na to pytanie trzebaby rzeczywiście się mocno zastanowić i połączyć wiele różnych faktów wraz z abstrakcyjnym myśleniem.\n",
        "\n",
        "Układanie rozkładu jazdy już moim zdaniem wymaga inteligencji, ponieważ trzeba na tyle umiejętnie ułożyć taki rozkład aby środki komunikacji nie kolidowały ze sobą, aby jeździły w odpowiednich odstępach czasu zależnie od pory dnia (rano i popołuniu więcej kursów). Wydaje mi się że ułożenie tak złożonego planu wymaga użycia inteligencji, ponieważ jednak trzeba pomyśleć mocno abstrakcyjnie i wszechstronnie, na przykład co się stanie jak wszystkie autobusty będą jeżdzić tylko raz na dzień wszystkie na raz, plus trzeba wziąc pod uwagę kiedy potrzeba więcej autobósów, bo ludzie akurat jezdzą do pracy lub z niej wracają.\n",
        "\n",
        "Programowanie kanałów telewizyjnych również może wymagać inteligenji, bo podobnie jak w przypadku z komunikacją miejską, aby taki plan ułożyć trzeba wziąć pod uwage\\ę kilka czynników, tak aby odbiorcy chęnie oglądali telewizję, tj. nie dawanie horrorów w porze dnia kiedy dużo dzieci spędza czas przed telewizorem, a bajek dla dzieci w nocy, kiedy dzieci śpią.\n",
        "\n",
        "Testowanie oprogramowania nie wymaga inteligencji ponieważ jest to działanie znowu odtwórcze, polega tylko i wyłącznie na wykonywaniu kolejnych kroków i instrukcji i na tej podstawie poszukiwanie błędów oraz oznaczanie ewentualnych znalezionych błędów w oprogramowaniu.\n",
        "\n",
        "Rozwiązywanie układów równań jest działaniem schematycznym na które są konkretne wzory, wystarczy ich znajomość aby bez większego zaangażowania inteligentnego je rozwiązać.\n",
        "\n",
        "Symboliczne obliczanie pochodnych funkcji oraz symboliczne całkowanie rónież jest procesem schematycznym i powtarzalnym, jest to znowu działanie odtwórcze do którego wykonania wystarczy znajomość paru wzoró, więc nie jest to działanie wymagające inteligencji.\n",
        "\n",
        "Kierowanie samochodem, tutaj moim zdaniem możnaby dyskutować bo z jednej strony owszem jest to działanie wyuczone i od pewnego momentu automatyczne kierowanie pojazdem przez nasze ciało, ale z drugiej strony tak naprawdę to będąc kierowcą cały czas trzeba byćuważnym, analizować sytuację na drodze, przewidywać zachowania innych kierowców oraz kierować się tak zwaną zasadą ograniczonego zaufania, co już pewnej dozy inteligencji jednak wymaga."
      ],
      "metadata": {
        "id": "Ws_3RvPttPwA"
      }
    },
    {
      "cell_type": "markdown",
      "source": [
        "Zadanie 2\n",
        "\n",
        "Streszczanie tekstu można uznać za mieszczące się w zakresie sztucznej inteligencji ponieważ jest to działanie polegające głownie na wyłapywaniu najważniejszych rzeczy z tekstu, co sztuczna inteligencja jest w stanie bez problemu już dzisiaj zrobić. W tym moemcie przecież są już programy streszczające podany tekst.\n",
        "\n",
        "Tłumaczenie tekstu, tak samo jest zadaniem które wymaga tylko znajomości języków, sztuczna inteligencja ma zaimplementowane różne języki więc tłumaczenie tekstu nie będzie stanowić dla SI żadnej trudności. Co więcej wydaje mi się, że jest to zadanie nawet prostsze od streszczania tekstu, więc jak SI daje radę streszczać tekst to tłumaczenie nie powinno stanowić żadnego problemu, plus oczywiście już od dawna istnieją programy tłumaczące teksty na różne języki.\n",
        "\n",
        "Klasyfikacja tekstu do kategorii tematycznych również mieści się w zakresie SI, wystarczy że podamy słowa klucze które mają być brane pod uwagę przy kwalifikacji a SI szczyta dane teksty i przydzieli je do odpowiednich kategorii.\n",
        "\n",
        "Odpowiadanie na proste pytania w języku naturalnym, o ile nie będą to skomplikowane pytania wymagające logicznego albo abstrakcyjnego myślenia i używania wyszukanego słownictwa, to SI powinna być w stanie przeprowadzić prostą rozmowę, mamy już przecież wiele chatbotów odpowiadających na proste pytania opartych własnie na sztucznej inteligencji.\n",
        "\n",
        "Rozwiązywanie układów równań również mieści się w zakresie SI, wystarczy że dany model będzie miał zaimplementowane wzory i bez problemu na bazie kalkulatora dany układ rozwiąże.\n",
        "\n",
        "Układanie rozkładu jazdy moim zdaniem może już przerosnąć możliwości sztucznej inteligencji, ponieważ jak pisałam o tym w 1 zadaniu ten problem jest bardziej złożony i myślę że wymagałby jednak odrobiny ludzkiej intuicji, kreatywności, logiki i abstrakcyjnego myślenia.\n",
        "\n",
        "Symboliczne obliczanie pochodnych i całkowanie funkcji jest procesem matematycznym, czyli są na to konkretne wzory, a takie zadanie które można wykonać odtwórczo, korzystając z podanych zaimportowanych z internetu naprzykład wzorów, co mieści się w zakresie możliwości sztucznej inteligencji.\n",
        "\n",
        "Kierowanie samochodzem na ten moment napewno nie mieści się w zakresie SI, do tego zadania potrzebna jest duża uwaga, szybka decyzyjność i analiza otoczenia przez cały czas, SI według mnie nie jest odpowiednim do tego narzędziem, bo nie kieruje się rozumem, analizą sytuacji i szybkim decydowaniem co zrobić jak naprzykład dziecko wbiegnie pod samochód,\n",
        "chodzi mi o to że SI może i byłaby w stanie pokierować autem, ale żeby dobrze kontrolować i opanowywać sytuację na drodze potrzebna jest intuicja, ograniczone zaufanie i wyczucie któego SI nie posiada.\n",
        "\n",
        "\n",
        "\n"
      ],
      "metadata": {
        "id": "xQBydL_2OlQ-"
      }
    },
    {
      "cell_type": "markdown",
      "source": [
        "Zadanie 3\n",
        "\n",
        "Rozmowa towarzyska - o ile jest to prosta rozmowa na bardzo podstawowym poziomie to myślę że SI raczej by sobie poradziła, ale jeżeli rozmowy zeszłyby na głębsze tematy, wymagające na przykład odniesienia się do uczuć czy intuicji czy światopoglądu, to w takiej rozmowie chatbot już się nie sprawdzi.\n",
        "\n",
        "Dyskusja polityczna - taka forma rozmowy wymaga bardzo złożonej i głebokiej wiedzy oraz umiejętności argumentowania ale też dobrego słuchania swojego rozmówcy, co sprawia że taka forma rozmowy mogłaby być trudna do imitacji przez sztuczna inteligencję.\n",
        "\n",
        "Dyskusja naukowa - tutaj mogę napisać dokładnie to samo co w przypadku dyskusji politycznej, czyli żę wymaga ona na tyle głebokiej i szerokiej wiedzy oraz zaangażowania, że sztuczna inteligencja miała by problem z jej imitacją.\n",
        "\n",
        "Odpowiadanie na pytania klientów w telefonicznej infolinii - na ten moment wiele firm wykorzystuje już SI aby rozmawiała z klientami, taki model ma zaimplementowane konkretne odpowiedzi jakich ma udzielać na takie a takie pytanie zadane przez klienta, oczywiście problem pojawia się co zrobić gdy klient zacznie się dopytywać o rzeczy których dany model nie wie, wtedy już lepiej byłoby zdecydowanie rozmawiać z prawdziwym człowiekiem, który gdy zadamy niespodziewane pytanie, jednak w jakiś sposób postara się nam pomóc i rozwiążać problem.\n",
        "\n",
        "Odpowiadanie na pytania klientów w internetowej infolinii - to już mam wrażenie norma że na praktycznie każdej stronie internetowej danej firmy znajduje się możliwość porozmawiania z wirtualnym asystentem, czatbotem mającym za zadanie odpowiadać na pytania zadawane przez klientów, więc tak taka forma komunikacji może być skutecznie imitowana przez SI.\n",
        "\n"
      ],
      "metadata": {
        "id": "MBjPOK32q9_9"
      }
    },
    {
      "cell_type": "markdown",
      "source": [
        "Zadanie 4\n",
        "\n",
        "Do tego zadania jako Chatbota udającego człowieka użyłam Chata GPT a jako bota\n",
        "asystenta użyłam Asystenta Google.\n",
        "\n",
        "\n",
        "Jedną z głównych różnic było to, że czat GPT potrafił wyłapywać kontekst rozmowy i\n",
        "intencje użytkownika, gdy rozmowa trwała długo to wciąż była na jeden temat. Z kolei\n",
        "asystent jest w stanie wykonywać proste komendy i polecenia, jak np. “Opowiedz żart”, ale\n",
        "ciężej już mu idzie ciągnięcie rozmowy. Z GPT dało się prowadzić normalną rozmowę jakby\n",
        "na kształt rozmowy z drugim człowiekiem, pytając Jak się ma, uzyskałam całkiem\n",
        "odpowiednią odpowiedź, pytając o to samo asystenta, wyświetlił mi on dzisiejszą pogodę i\n",
        "stan mojej baterii w telefonie.\n",
        "Obydwa boty były w stanie opowiedzieć mi żart oraz przytoczyć wypowiedzi znanych osób,\n",
        "Chat GPT był w stanie poprowadzić ze mną rozmowę na zadany temat, asystent nie.\n",
        "\n",
        "\n",
        "Jeśli chodzi o zadawanie pytań to Chat GPT od razu zapytał co może dla mnie zrobić, a po\n",
        "każdej wypowiedzi zadawał pytanie oczekując na moją odpowiedź, a asystent po prostu\n",
        "wykonywał zadane mu prośby, jak np. pokaż jaka jest pogoda.\n",
        "\n",
        "\n",
        "Jeśli chodzi o pozostałe punkty z zadania czyli wymijające odpowiedzi, częsta zmiana\n",
        "tematu rozmowy czy problemy z utrzymaniem wątków, czyli cechy typowego chatbota\n",
        "asystenta, który nie ma za zadanie udawać człowieka tylko wykonywać komendy i\n",
        "polecenia, to tak właśnie wyglądała konwersacja z asystentem Google.\n",
        "\n",
        "\n",
        "Gdy wraz z koleżanką prowadziłyśmy rozmowę między dwoma Chatbotami (ChatGPT i\n",
        "Snapchat AI) to bez problemu prowadziły one luźną konwersację o książkach (nie\n",
        "narzuciliśmy im tematu) a rozmowa cały czas się ciągnęła, żaden z czatów nie zakończył\n",
        "rozmowy.\n",
        "\n",
        "\n",
        "Zdenerwowanie chatbota chyba jest niemożliwe, próbowałam na kilka sposobów za każdym\n",
        "razem Chat GPT odpowiadał bardzo uprzejmie i pytał w jaki sposób może mi pomóc. :-)."
      ],
      "metadata": {
        "id": "AisesC1xt0__"
      }
    }
  ]
}